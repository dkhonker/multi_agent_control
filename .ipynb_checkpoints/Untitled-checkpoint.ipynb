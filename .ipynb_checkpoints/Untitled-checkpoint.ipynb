{
 "cells": [
  {
   "cell_type": "code",
   "execution_count": 1,
   "id": "7edc62ad",
   "metadata": {},
   "outputs": [],
   "source": [
    "import matlab.engine\n",
    "eng = matlab.engine.start_matlab()\n"
   ]
  },
  {
   "cell_type": "code",
   "execution_count": 2,
   "id": "16c6bd15",
   "metadata": {},
   "outputs": [],
   "source": [
    "import re,os\n",
    "def alter(file,old_str,new_str):\n",
    " \n",
    "    with open(file, \"r\", encoding=\"utf-8\") as f1,open(\"%s.bak\" % file, \"w\", encoding=\"utf-8\") as f2:\n",
    "        for line in f1:\n",
    "            f2.write(re.sub(old_str,new_str,line))\n",
    "    os.remove(file)\n",
    "    os.rename(\"%s.bak\" % file, file)\n",
    "alter(\"SI_DFM_2D_SYSU/SI_dynamic_fomation_manv_main.m\", \"kv = 6\", \"kv = 17\")"
   ]
  },
  {
   "cell_type": "code",
   "execution_count": 10,
   "id": "8b73f29f",
   "metadata": {},
   "outputs": [
    {
     "name": "stdout",
     "output_type": "stream",
     "text": [
      "Wall time: 55 s\n"
     ]
    }
   ],
   "source": [
    "%%time\n",
    "eng.test_trajectory(nargout=0)"
   ]
  },
  {
   "cell_type": "code",
   "execution_count": 17,
   "id": "ae6a3582",
   "metadata": {},
   "outputs": [
    {
     "data": {
      "text/plain": [
       "28.480659049997"
      ]
     },
     "execution_count": 17,
     "metadata": {},
     "output_type": "execute_result"
    }
   ],
   "source": [
    "\n",
    "s = eng.genpath('readonly')\n",
    "eng.addpath(s, nargout=0)\n",
    "score = eng.JudgeStudentsPoint(nargout=1)\n",
    "score\n"
   ]
  },
  {
   "cell_type": "code",
   "execution_count": 18,
   "id": "c64b62ac",
   "metadata": {},
   "outputs": [],
   "source": [
    "alter(\"SI_DFM_2D_SYSU/SI_dynamic_fomation_manv_main.m\", \"kv = 10\", \"kv = 6\")"
   ]
  },
  {
   "cell_type": "code",
   "execution_count": null,
   "id": "88acd370",
   "metadata": {},
   "outputs": [],
   "source": []
  }
 ],
 "metadata": {
  "kernelspec": {
   "display_name": "Python 3",
   "language": "python",
   "name": "python3"
  },
  "language_info": {
   "codemirror_mode": {
    "name": "ipython",
    "version": 3
   },
   "file_extension": ".py",
   "mimetype": "text/x-python",
   "name": "python",
   "nbconvert_exporter": "python",
   "pygments_lexer": "ipython3",
   "version": "3.8.10"
  }
 },
 "nbformat": 4,
 "nbformat_minor": 5
}
